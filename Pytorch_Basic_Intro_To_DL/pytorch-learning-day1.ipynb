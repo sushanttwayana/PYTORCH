{
 "cells": [
  {
   "cell_type": "markdown",
   "id": "4b8cd8fc",
   "metadata": {
    "papermill": {
     "duration": 0.005209,
     "end_time": "2024-05-16T18:02:38.585655",
     "exception": false,
     "start_time": "2024-05-16T18:02:38.580446",
     "status": "completed"
    },
    "tags": []
   },
   "source": [
    "**Creating tensors and accessing attributes**\n",
    "\n",
    "Tensors are the primary data structure in PyTorch and will be the building blocks for our deep learning models. They share many similarities with NumPy arrays but have some unique attributes too.\n",
    "\n",
    "In this exercise, you'll practice creating a tensor from a Python list and displaying some of its attributes.\n",
    "\n"
   ]
  },
  {
   "cell_type": "code",
   "execution_count": 1,
   "id": "320bdae0",
   "metadata": {
    "_cell_guid": "b1076dfc-b9ad-4769-8c92-a6c4dae69d19",
    "_uuid": "8f2839f25d086af736a60e9eeb907d3b93b6e0e5",
    "execution": {
     "iopub.execute_input": "2024-05-16T18:02:38.599259Z",
     "iopub.status.busy": "2024-05-16T18:02:38.598599Z",
     "iopub.status.idle": "2024-05-16T18:02:42.200515Z",
     "shell.execute_reply": "2024-05-16T18:02:42.199229Z"
    },
    "papermill": {
     "duration": 3.610612,
     "end_time": "2024-05-16T18:02:42.203146",
     "exception": false,
     "start_time": "2024-05-16T18:02:38.592534",
     "status": "completed"
    },
    "tags": []
   },
   "outputs": [
    {
     "name": "stdout",
     "output_type": "stream",
     "text": [
      "tensor([1, 2, 3, 4])\n"
     ]
    }
   ],
   "source": [
    "import torch\n",
    "\n",
    "list_a = [1, 2, 3, 4]\n",
    "list_b = [7, 8, 9 ,0]\n",
    "# Create a tensor from list_a\n",
    "tensor_a = torch.tensor(list_a)\n",
    "tensor_b = torch.tensor(list_b)\n",
    "\n",
    "print(tensor_a)"
   ]
  },
  {
   "cell_type": "code",
   "execution_count": 2,
   "id": "6663c3b7",
   "metadata": {
    "execution": {
     "iopub.execute_input": "2024-05-16T18:02:42.215312Z",
     "iopub.status.busy": "2024-05-16T18:02:42.214776Z",
     "iopub.status.idle": "2024-05-16T18:02:42.221427Z",
     "shell.execute_reply": "2024-05-16T18:02:42.220395Z"
    },
    "papermill": {
     "duration": 0.015477,
     "end_time": "2024-05-16T18:02:42.223650",
     "exception": false,
     "start_time": "2024-05-16T18:02:42.208173",
     "status": "completed"
    },
    "tags": []
   },
   "outputs": [
    {
     "name": "stdout",
     "output_type": "stream",
     "text": [
      "cpu\n",
      "torch.int64\n"
     ]
    }
   ],
   "source": [
    "# Display the tensor device\n",
    "print(tensor_a.device)\n",
    "\n",
    "# Display the tensor data type\n",
    "print(tensor_a.dtype)"
   ]
  },
  {
   "cell_type": "markdown",
   "id": "0a3ef2b2",
   "metadata": {
    "papermill": {
     "duration": 0.00531,
     "end_time": "2024-05-16T18:02:42.234049",
     "exception": false,
     "start_time": "2024-05-16T18:02:42.228739",
     "status": "completed"
    },
    "tags": []
   },
   "source": [
    "**Creating tensors from NumPy arrays**\n",
    "\n",
    "Tensors are the fundamental data structure of PyTorch. You can create complex deep learning algorithms by learning how to manipulate them.\n",
    "\n",
    "The torch package has been imported, and two NumPy arrays have been created, named array_a and array_b. Both arrays have the same dimensions."
   ]
  },
  {
   "cell_type": "code",
   "execution_count": 3,
   "id": "4c680b5a",
   "metadata": {
    "execution": {
     "iopub.execute_input": "2024-05-16T18:02:42.246361Z",
     "iopub.status.busy": "2024-05-16T18:02:42.245897Z",
     "iopub.status.idle": "2024-05-16T18:02:42.280231Z",
     "shell.execute_reply": "2024-05-16T18:02:42.278976Z"
    },
    "papermill": {
     "duration": 0.043682,
     "end_time": "2024-05-16T18:02:42.283079",
     "exception": false,
     "start_time": "2024-05-16T18:02:42.239397",
     "status": "completed"
    },
    "tags": []
   },
   "outputs": [
    {
     "name": "stdout",
     "output_type": "stream",
     "text": [
      "tensor([-6, -6, -6,  4])\n",
      "tensor([ 7, 16, 27,  0])\n",
      "tensor([ 1, 10, 21,  4])\n"
     ]
    },
    {
     "name": "stderr",
     "output_type": "stream",
     "text": [
      "/tmp/ipykernel_18/1309791693.py:5: UserWarning: To copy construct from a tensor, it is recommended to use sourceTensor.clone().detach() or sourceTensor.clone().detach().requires_grad_(True), rather than torch.tensor(sourceTensor).\n",
      "  tensor_a = torch.tensor(array_a)\n",
      "/tmp/ipykernel_18/1309791693.py:6: UserWarning: To copy construct from a tensor, it is recommended to use sourceTensor.clone().detach() or sourceTensor.clone().detach().requires_grad_(True), rather than torch.tensor(sourceTensor).\n",
      "  tensor_b = torch.tensor(array_b)\n"
     ]
    }
   ],
   "source": [
    "array_a = torch.tensor(list_a)\n",
    "array_b = torch.tensor(list_b)\n",
    "\n",
    "# Create two tensors from the arrays\n",
    "tensor_a = torch.tensor(array_a)\n",
    "tensor_b = torch.tensor(array_b)\n",
    "\n",
    "# Subtract tensor_b from tensor_a \n",
    "tensor_c = tensor_a - tensor_b\n",
    "print(tensor_c)\n",
    "\n",
    "# Multiply each element of tensor_a with each element of tensor_b\n",
    "tensor_d = tensor_a * tensor_b\n",
    "print(tensor_d)\n",
    "\n",
    "# Add tensor_c with tensor_d\n",
    "tensor_e = tensor_c + tensor_d\n",
    "print(tensor_e)"
   ]
  },
  {
   "cell_type": "markdown",
   "id": "3ffcccf6",
   "metadata": {
    "papermill": {
     "duration": 0.00549,
     "end_time": "2024-05-16T18:02:42.294180",
     "exception": false,
     "start_time": "2024-05-16T18:02:42.288690",
     "status": "completed"
    },
    "tags": []
   },
   "source": [
    "**First neural network**\n",
    "\n",
    "We will implement a small neural network containing two linear layers. The first layer takes an eight-dimensional input, and the last layer outputs a one-dimensional tensor.\n",
    "\n",
    "Create a neural network of linear layers that takes a tensor of dimensions 1*8\n",
    " as input and outputs a tensor of dimensions  1*1\n",
    ".\n",
    "Use any output dimension for the first layer you want."
   ]
  },
  {
   "cell_type": "code",
   "execution_count": 4,
   "id": "1676cae0",
   "metadata": {
    "execution": {
     "iopub.execute_input": "2024-05-16T18:02:42.307414Z",
     "iopub.status.busy": "2024-05-16T18:02:42.306957Z",
     "iopub.status.idle": "2024-05-16T18:02:42.366531Z",
     "shell.execute_reply": "2024-05-16T18:02:42.365208Z"
    },
    "papermill": {
     "duration": 0.069418,
     "end_time": "2024-05-16T18:02:42.368785",
     "exception": false,
     "start_time": "2024-05-16T18:02:42.299367",
     "status": "completed"
    },
    "tags": []
   },
   "outputs": [
    {
     "name": "stdout",
     "output_type": "stream",
     "text": [
      "tensor([[2.0799]], grad_fn=<AddmmBackward0>)\n"
     ]
    }
   ],
   "source": [
    "import torch\n",
    "import torch.nn as nn\n",
    "\n",
    "input_tensor = torch.Tensor([[2, 3, 6, 7, 9, 3, 2, 1]])\n",
    "\n",
    "# Implement a small neural network with exactly two linear layers\n",
    "model = nn.Sequential( nn.Linear(8,16), # Linear layer with input size 8 and output size 16\n",
    "                       nn.Linear(16,1)   # Linear layer with input size 16 and output size 1\n",
    "\n",
    "                     )\n",
    "\n",
    "output = model(input_tensor)\n",
    "print(output)"
   ]
  },
  {
   "cell_type": "markdown",
   "id": "e516eabe",
   "metadata": {
    "papermill": {
     "duration": 0.004863,
     "end_time": "2024-05-16T18:02:42.378867",
     "exception": false,
     "start_time": "2024-05-16T18:02:42.374004",
     "status": "completed"
    },
    "tags": []
   },
   "source": [
    " In practice, you'll find that modern neural networks can contain hundreds of layers and millions of parameters. Recall that the model output is not meaningful until the model is trained, i.e. until the weights and biases of each layer can meaningfully be used to produce output."
   ]
  },
  {
   "cell_type": "code",
   "execution_count": 5,
   "id": "139a05c2",
   "metadata": {
    "execution": {
     "iopub.execute_input": "2024-05-16T18:02:42.390835Z",
     "iopub.status.busy": "2024-05-16T18:02:42.390431Z",
     "iopub.status.idle": "2024-05-16T18:02:42.401256Z",
     "shell.execute_reply": "2024-05-16T18:02:42.400429Z"
    },
    "papermill": {
     "duration": 0.019198,
     "end_time": "2024-05-16T18:02:42.403147",
     "exception": false,
     "start_time": "2024-05-16T18:02:42.383949",
     "status": "completed"
    },
    "tags": []
   },
   "outputs": [
    {
     "data": {
      "text/plain": [
       "Sequential(\n",
       "  (0): Linear(in_features=12, out_features=20, bias=True)\n",
       "  (1): Linear(in_features=20, out_features=14, bias=True)\n",
       "  (2): Linear(in_features=14, out_features=3, bias=True)\n",
       "  (3): Linear(in_features=3, out_features=2, bias=True)\n",
       ")"
      ]
     },
     "execution_count": 5,
     "metadata": {},
     "output_type": "execute_result"
    }
   ],
   "source": [
    "input_tensor = torch.Tensor(\n",
    "    [[2, 3, 6, 7, 9, 3, 2, 1, 5, 3, 6, 9]]\n",
    "    )\n",
    "\n",
    "nn.Sequential(\n",
    "nn.Linear(12, 20),\n",
    "nn.Linear(20,14),\n",
    "nn.Linear(14, 3),\n",
    "nn.Linear(3, 2)\n",
    ")"
   ]
  },
  {
   "cell_type": "markdown",
   "id": "f05c42f8",
   "metadata": {
    "papermill": {
     "duration": 0.004979,
     "end_time": "2024-05-16T18:02:42.413491",
     "exception": false,
     "start_time": "2024-05-16T18:02:42.408512",
     "status": "completed"
    },
    "tags": []
   },
   "source": [
    "# The sigmoid and softmax functions\n",
    "\n",
    "The sigmoid and softmax functions are two of the most popular activation functions in deep learning. They are both usually used as the last step of a neural network. Sigmoid functions are used for binary classification problems, whereas softmax functions are often used for multi-class classification problems. This exercise will familiarize you with creating and using both functions.\n",
    "\n",
    "Let's say that you have a neural network that returned the values contained in the score tensor as a pre-activation output. You will apply activation functions to this output.\n"
   ]
  },
  {
   "cell_type": "code",
   "execution_count": 6,
   "id": "25d94bea",
   "metadata": {
    "execution": {
     "iopub.execute_input": "2024-05-16T18:02:42.426770Z",
     "iopub.status.busy": "2024-05-16T18:02:42.425430Z",
     "iopub.status.idle": "2024-05-16T18:02:42.435673Z",
     "shell.execute_reply": "2024-05-16T18:02:42.434305Z"
    },
    "papermill": {
     "duration": 0.019101,
     "end_time": "2024-05-16T18:02:42.438027",
     "exception": false,
     "start_time": "2024-05-16T18:02:42.418926",
     "status": "completed"
    },
    "tags": []
   },
   "outputs": [
    {
     "name": "stdout",
     "output_type": "stream",
     "text": [
      "tensor([[0.6900]])\n"
     ]
    }
   ],
   "source": [
    "# Create a sigmoid function and apply it on input_tensor to generate a probability.\n",
    "input_tensor = torch.tensor([[0.8]])\n",
    "\n",
    "# Create a sigmoid function and apply it on input_tensor\n",
    "sigmoid = nn.Sigmoid()\n",
    "probability = sigmoid(input_tensor)\n",
    "print(probability)"
   ]
  },
  {
   "cell_type": "code",
   "execution_count": 7,
   "id": "d8c826a9",
   "metadata": {
    "execution": {
     "iopub.execute_input": "2024-05-16T18:02:42.452016Z",
     "iopub.status.busy": "2024-05-16T18:02:42.451233Z",
     "iopub.status.idle": "2024-05-16T18:02:42.463419Z",
     "shell.execute_reply": "2024-05-16T18:02:42.462029Z"
    },
    "papermill": {
     "duration": 0.022518,
     "end_time": "2024-05-16T18:02:42.466040",
     "exception": false,
     "start_time": "2024-05-16T18:02:42.443522",
     "status": "completed"
    },
    "tags": []
   },
   "outputs": [
    {
     "name": "stdout",
     "output_type": "stream",
     "text": [
      "tensor([[1.2828e-01, 1.1698e-04, 5.7492e-01, 3.4961e-02, 1.5669e-01, 1.0503e-01]])\n"
     ]
    }
   ],
   "source": [
    "# Create a softmax function and apply it on input_tensor to generate a probability.\n",
    "\n",
    "input_tensor = torch.tensor([[1.0, -6.0, 2.5, -0.3, 1.2, 0.8]])\n",
    "\n",
    "# Create a softmax function and apply it on input_tensor\n",
    "softmax = nn.Softmax(dim = -1)\n",
    "probabilities = softmax(input_tensor)\n",
    "print(probabilities)"
   ]
  },
  {
   "cell_type": "markdown",
   "id": "0d59fcec",
   "metadata": {
    "papermill": {
     "duration": 0.005346,
     "end_time": "2024-05-16T18:02:42.477205",
     "exception": false,
     "start_time": "2024-05-16T18:02:42.471859",
     "status": "completed"
    },
    "tags": []
   },
   "source": [
    "# Building a binary classifier in PyTorch\n",
    "\n",
    "Recall that a small neural network with a single linear layer followed by a sigmoid function is a binary classifier. It acts just like a logistic regression.\n",
    "\n",
    "In this exercise, you'll practice building this small network and interpreting the output of the classifier.\n",
    "\n",
    "Create a neural network that takes a tensor of dimensions 1x8 as input, and returns an output of the correct shape for binary classification.\n",
    "Pass the output of the linear layer to a sigmoid, which both takes in and return a single float."
   ]
  },
  {
   "cell_type": "code",
   "execution_count": 8,
   "id": "1670a37f",
   "metadata": {
    "execution": {
     "iopub.execute_input": "2024-05-16T18:02:42.491155Z",
     "iopub.status.busy": "2024-05-16T18:02:42.490789Z",
     "iopub.status.idle": "2024-05-16T18:02:42.501549Z",
     "shell.execute_reply": "2024-05-16T18:02:42.499732Z"
    },
    "papermill": {
     "duration": 0.021739,
     "end_time": "2024-05-16T18:02:42.504638",
     "exception": false,
     "start_time": "2024-05-16T18:02:42.482899",
     "status": "completed"
    },
    "tags": []
   },
   "outputs": [
    {
     "name": "stdout",
     "output_type": "stream",
     "text": [
      "tensor([[0.0377]], grad_fn=<SigmoidBackward0>)\n"
     ]
    }
   ],
   "source": [
    "import torch\n",
    "import torch.nn as nn\n",
    "\n",
    "input_tensor = torch.Tensor([[3, 4, 6, 2, 3, 6, 8, 9]])\n",
    "\n",
    "# Implement a small neural network for binary classification\n",
    "model = nn.Sequential(\n",
    "  nn.Linear(8,1),\n",
    "  nn.Sigmoid()\n",
    ")\n",
    "\n",
    "output = model(input_tensor)\n",
    "print(output)"
   ]
  },
  {
   "cell_type": "markdown",
   "id": "fd5c6be4",
   "metadata": {
    "papermill": {
     "duration": 0.005634,
     "end_time": "2024-05-16T18:02:42.516658",
     "exception": false,
     "start_time": "2024-05-16T18:02:42.511024",
     "status": "completed"
    },
    "tags": []
   },
   "source": [
    "# From regression to multi-class classification\n",
    "\n",
    "Recall that the models we have seen for binary classification, multi-class classification and regression have all been similar, barring a few tweaks to the model.\n",
    "\n",
    "In this exercise, you'll start by building a model for regression, and then tweak the model to perform a multi-class classification."
   ]
  },
  {
   "cell_type": "markdown",
   "id": "92ed43ca",
   "metadata": {
    "papermill": {
     "duration": 0.005217,
     "end_time": "2024-05-16T18:02:42.527404",
     "exception": false,
     "start_time": "2024-05-16T18:02:42.522187",
     "status": "completed"
    },
    "tags": []
   },
   "source": [
    "Create a neural network with exactly four linear layers, which takes the input tensor as input, and outputs a regression value, using any shapes you like for the hidden layers.\n",
    "\n"
   ]
  },
  {
   "cell_type": "code",
   "execution_count": 9,
   "id": "86675fcf",
   "metadata": {
    "execution": {
     "iopub.execute_input": "2024-05-16T18:02:42.539955Z",
     "iopub.status.busy": "2024-05-16T18:02:42.539579Z",
     "iopub.status.idle": "2024-05-16T18:02:42.549679Z",
     "shell.execute_reply": "2024-05-16T18:02:42.548334Z"
    },
    "papermill": {
     "duration": 0.019046,
     "end_time": "2024-05-16T18:02:42.551949",
     "exception": false,
     "start_time": "2024-05-16T18:02:42.532903",
     "status": "completed"
    },
    "tags": []
   },
   "outputs": [
    {
     "name": "stdout",
     "output_type": "stream",
     "text": [
      "tensor([[0.8927]], grad_fn=<AddmmBackward0>)\n"
     ]
    }
   ],
   "source": [
    "input_tensor = torch.Tensor([[3, 4, 6, 7, 10, 12, 2, 3, 6, 8, 9]])\n",
    "\n",
    "# Implement a neural network with exactly four linear layers\n",
    "model = nn.Sequential(nn.Linear(11,8), nn.Linear(8,16),\n",
    "                      nn.Linear(16,32), nn.Linear(32,1))\n",
    "\n",
    "output = model(input_tensor)\n",
    "print(output)"
   ]
  },
  {
   "cell_type": "markdown",
   "id": "9a02e444",
   "metadata": {
    "papermill": {
     "duration": 0.005674,
     "end_time": "2024-05-16T18:02:42.563456",
     "exception": false,
     "start_time": "2024-05-16T18:02:42.557782",
     "status": "completed"
    },
    "tags": []
   },
   "source": [
    "A similar neural network to the one you just built is provided, containing four linear layers; update this network to perform a multi-class classification with four outputs."
   ]
  },
  {
   "cell_type": "code",
   "execution_count": 10,
   "id": "100331a4",
   "metadata": {
    "execution": {
     "iopub.execute_input": "2024-05-16T18:02:42.576225Z",
     "iopub.status.busy": "2024-05-16T18:02:42.575815Z",
     "iopub.status.idle": "2024-05-16T18:02:42.591142Z",
     "shell.execute_reply": "2024-05-16T18:02:42.589948Z"
    },
    "papermill": {
     "duration": 0.024689,
     "end_time": "2024-05-16T18:02:42.593728",
     "exception": false,
     "start_time": "2024-05-16T18:02:42.569039",
     "status": "completed"
    },
    "tags": []
   },
   "outputs": [
    {
     "name": "stdout",
     "output_type": "stream",
     "text": [
      "tensor([[0.2929, 0.2658, 0.1826, 0.2587]], grad_fn=<SoftmaxBackward0>)\n"
     ]
    }
   ],
   "source": [
    "\n",
    "input_tensor = torch.Tensor([[3, 4, 6, 7, 10, 12, 2, 3, 6, 8, 9]])\n",
    "\n",
    "model = nn.Sequential(\n",
    "    nn.Linear(11, 20),\n",
    "    nn.ReLU(),  # Adding ReLU activation after the first layer\n",
    "    nn.Linear(20, 12),\n",
    "    nn.ReLU(),  # Adding ReLU activation after the second layer\n",
    "    nn.Linear(12, 6),\n",
    "    nn.ReLU(),  # Adding ReLU activation after the third layer\n",
    "    nn.Linear(6, 4),  # Output layer with 4 units for multi-class classification\n",
    "    nn.Softmax(dim=1)  # Softmax activation to get probabilities for each class\n",
    ")\n",
    "\n",
    "\n",
    "output = model(input_tensor)\n",
    "print(output)"
   ]
  },
  {
   "cell_type": "markdown",
   "id": "70232a10",
   "metadata": {
    "papermill": {
     "duration": 0.005413,
     "end_time": "2024-05-16T18:02:42.605232",
     "exception": false,
     "start_time": "2024-05-16T18:02:42.599819",
     "status": "completed"
    },
    "tags": []
   },
   "source": [
    "You turned your continuous regression values into probabilities bounded between zero and one by changing the output dimensions of the last linear layer, as well as by applying the softmax function."
   ]
  },
  {
   "cell_type": "code",
   "execution_count": null,
   "id": "7ce4437c",
   "metadata": {
    "papermill": {
     "duration": 0.005481,
     "end_time": "2024-05-16T18:02:42.616378",
     "exception": false,
     "start_time": "2024-05-16T18:02:42.610897",
     "status": "completed"
    },
    "tags": []
   },
   "outputs": [],
   "source": []
  }
 ],
 "metadata": {
  "kaggle": {
   "accelerator": "none",
   "dataSources": [],
   "dockerImageVersionId": 30698,
   "isGpuEnabled": false,
   "isInternetEnabled": true,
   "language": "python",
   "sourceType": "notebook"
  },
  "kernelspec": {
   "display_name": "Python 3",
   "language": "python",
   "name": "python3"
  },
  "language_info": {
   "codemirror_mode": {
    "name": "ipython",
    "version": 3
   },
   "file_extension": ".py",
   "mimetype": "text/x-python",
   "name": "python",
   "nbconvert_exporter": "python",
   "pygments_lexer": "ipython3",
   "version": "3.10.13"
  },
  "papermill": {
   "default_parameters": {},
   "duration": 7.981431,
   "end_time": "2024-05-16T18:02:43.646068",
   "environment_variables": {},
   "exception": null,
   "input_path": "__notebook__.ipynb",
   "output_path": "__notebook__.ipynb",
   "parameters": {},
   "start_time": "2024-05-16T18:02:35.664637",
   "version": "2.5.0"
  }
 },
 "nbformat": 4,
 "nbformat_minor": 5
}
